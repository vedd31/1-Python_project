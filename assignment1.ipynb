{
 "cells": [
  {
   "cell_type": "code",
   "execution_count": null,
   "metadata": {},
   "outputs": [],
   "source": [
    "while True:\n",
    "    print(\"\\nsimple calculator\")\n",
    "    print(\"select operation\")\n",
    "    print(\"1.addition\")\n",
    "    print(\"2.subtract\")\n",
    "    print(\"3.multiply\")\n",
    "    print(\"4.division\")\n",
    "    print(\"5.exit\")\n",
    "    \n",
    "    operation=input(\"1/2/3/4/5):\")\n",
    "\n",
    "    if operation ==\"1\":\n",
    "        x= float (input(\"enter first number:\"))\n",
    "        y= float (input(\"enter second number:\"))\n",
    "        result=x + y\n",
    "        print(\"result:\",result)\n",
    "\n",
    "    elif operation==\"2\":\n",
    "        x= float(input(\"enter first number:\"))\n",
    "        y=float(input(\"enter second number:\"))\n",
    "        result=x - y\n",
    "        print(\"result:\",result)\n",
    "    \n",
    "    elif operation==\"3\":\n",
    "        x=float(input(\"enter first number:\"))\n",
    "        y=float(input(\"enter second number:\"))\n",
    "        result=x * y\n",
    "        print(\"result:\",result)\n",
    "\n",
    "    elif operation == '4': \n",
    "        x = float(input(\"Enter the first number: \"))\n",
    "        y = float(input(\"Enter the second number: \"))\n",
    "        if y != 0:\n",
    "            result = x / y\n",
    "            print(\"Result:\", result)\n",
    "        else:\n",
    "            print(\"Error! Division by zero.\")\n",
    "    elif operation == '5':\n",
    "        print(\"Exit\")\n",
    "\n",
    "        break\n",
    "    else:\n",
    "        print(\"Invalid input. Please enter a number between 1 and 5.\")\n",
    "\n",
    "\n"
   ]
  },
  {
   "cell_type": "code",
   "execution_count": 5,
   "metadata": {},
   "outputs": [
    {
     "name": "stdout",
     "output_type": "stream",
     "text": [
      "\n",
      "temperature conversion tool\n",
      "select operation\n",
      "1.Celsius to Fahrenheit\n",
      "2.Fahrenheit to Celsius\n",
      "3.exit\n",
      "exit\n"
     ]
    }
   ],
   "source": [
    "while True:\n",
    "    print(\"\\ntemperature conversion tool\")\n",
    "    print(\"select operation\")\n",
    "    print(\"1.Celsius to Fahrenheit\")\n",
    "    print(\"2.Fahrenheit to Celsius\")\n",
    "    print(\"3.exit\")\n",
    "\n",
    "    operation=input(\"1/2/3):\")\n",
    "    \n",
    "    if operation ==\"1\":\n",
    "        temp= float(input(\"enter temperature in degree:\"))\n",
    "        result = (temp*9/5) + 32\n",
    "        print(\"result:\",result)\n",
    "        break\n",
    "    elif operation ==\"2\":\n",
    "        temp=float(input(\"enter temperature in fahrenheit\"))\n",
    "        result = (temp - 32) * 5/9\n",
    "        print(\"result\",result)\n",
    "        break\n",
    "    elif operation ==\"3\":\n",
    "        print(\"exit\")\n",
    "\n",
    "        break\n",
    "    else:\n",
    "        print(\"invalid input\")"
   ]
  },
  {
   "cell_type": "code",
   "execution_count": null,
   "metadata": {},
   "outputs": [],
   "source": []
  }
 ],
 "metadata": {
  "kernelspec": {
   "display_name": "Python 3",
   "language": "python",
   "name": "python3"
  },
  "language_info": {
   "codemirror_mode": {
    "name": "ipython",
    "version": 3
   },
   "file_extension": ".py",
   "mimetype": "text/x-python",
   "name": "python",
   "nbconvert_exporter": "python",
   "pygments_lexer": "ipython3",
   "version": "3.12.3"
  }
 },
 "nbformat": 4,
 "nbformat_minor": 2
}
